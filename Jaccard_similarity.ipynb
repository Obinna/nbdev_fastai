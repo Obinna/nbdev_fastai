{
  "nbformat": 4,
  "nbformat_minor": 0,
  "metadata": {
    "colab": {
      "provenance": [],
      "authorship_tag": "ABX9TyP0DM0Fkd2md6wggXfNYsjR",
      "include_colab_link": true
    },
    "kernelspec": {
      "name": "python3",
      "display_name": "Python 3"
    },
    "language_info": {
      "name": "python"
    }
  },
  "cells": [
    {
      "cell_type": "markdown",
      "metadata": {
        "id": "view-in-github",
        "colab_type": "text"
      },
      "source": [
        "<a href=\"https://colab.research.google.com/github/Obinna/nbdev_fastai/blob/main/Jaccard_similarity.ipynb\" target=\"_parent\"><img src=\"https://colab.research.google.com/assets/colab-badge.svg\" alt=\"Open In Colab\"/></a>"
      ]
    },
    {
      "cell_type": "code",
      "execution_count": 1,
      "metadata": {
        "id": "AtdhQa4u9yh1"
      },
      "outputs": [],
      "source": [
        "import numpy as np\n",
        "\n"
      ]
    },
    {
      "cell_type": "code",
      "source": [
        "def jaccard_binary(x,y):\n",
        "    \"\"\"A function for finding the similarity between two binary vectors\"\"\"\n",
        "    intersection = np.logical_and(x, y)\n",
        "    union = np.logical_or(x, y)\n",
        "    similarity = intersection.sum() / float(union.sum())\n",
        "    return similarity"
      ],
      "metadata": {
        "id": "ebsmwg5V_JtQ"
      },
      "execution_count": 2,
      "outputs": []
    },
    {
      "cell_type": "code",
      "source": [
        "# Define some binary vectors\n",
        "x = [0,1,0,0,0,1,0,0,1]\n",
        "y = [0,0,1,0,0,0,0,0,1]\n",
        "z = [1,1,0,0,0,1,0,0,0]\n",
        "\n"
      ],
      "metadata": {
        "id": "NOZ02XUJ_O_m"
      },
      "execution_count": 3,
      "outputs": []
    },
    {
      "cell_type": "code",
      "source": [
        "# Find similarity among the vectors\n",
        "simxy = jaccard_binary(x,y)\n",
        "simxz = jaccard_binary(x,z)\n",
        "simyz = jaccard_binary(y,z)\n",
        "\n",
        "print(' Similarity between x and y is', simxy, '\\n Similarity between x and z is ', simxz, '\\n Similarity between x and z is ', simyz)"
      ],
      "metadata": {
        "colab": {
          "base_uri": "https://localhost:8080/"
        },
        "id": "2N3yWNI-_SF-",
        "outputId": "d45da500-28c6-4605-adbd-07ebc9419112"
      },
      "execution_count": 4,
      "outputs": [
        {
          "output_type": "stream",
          "name": "stdout",
          "text": [
            " Similarity between x and y is 0.25 \n",
            " Similarity between x and z is  0.5 \n",
            " Similarity between x and z is  0.0\n"
          ]
        }
      ]
    },
    {
      "cell_type": "code",
      "source": [
        "#Jaccard Similarity for Two Sets"
      ],
      "metadata": {
        "id": "heQPeQNe_TwK"
      },
      "execution_count": 5,
      "outputs": []
    },
    {
      "cell_type": "code",
      "source": [
        "def jaccard_set(list1, list2):\n",
        "    \"\"\"Define Jaccard Similarity function for two sets\"\"\"\n",
        "    intersection = len(list(set(list1).intersection(list2)))\n",
        "    union = (len(list1) + len(list2)) - intersection\n",
        "    return float(intersection) / union\n",
        "\n"
      ],
      "metadata": {
        "id": "RSPNb7QG_r8B"
      },
      "execution_count": 6,
      "outputs": []
    },
    {
      "cell_type": "code",
      "source": [
        "# Define two sets\n",
        "a = [0, 1, 2, 5, 6]\n",
        "b = [0, 2, 3, 4, 5, 7, 9]\n",
        "\n",
        "# Find Jaccard Similarity between the two sets\n",
        "jaccard_set(a, b)\n",
        "\n"
      ],
      "metadata": {
        "colab": {
          "base_uri": "https://localhost:8080/"
        },
        "id": "2UoJRRj6_tPN",
        "outputId": "3bc4fcff-9179-4486-b934-ba247d62a63b"
      },
      "execution_count": 7,
      "outputs": [
        {
          "output_type": "execute_result",
          "data": {
            "text/plain": [
              "0.3333333333333333"
            ]
          },
          "metadata": {},
          "execution_count": 7
        }
      ]
    },
    {
      "cell_type": "code",
      "source": [
        "#define Jaccard Similarity function\n",
        "def jaccard_optionB(list1, list2):\n",
        "    intersection = len(list(set(list1).intersection(list2)))\n",
        "    union = (len(list1) + len(list2)) - intersection\n",
        "    return float(intersection) / union"
      ],
      "metadata": {
        "id": "1M-gNOyN_u9o"
      },
      "execution_count": 8,
      "outputs": []
    },
    {
      "cell_type": "code",
      "source": [
        "g = ['cat', 'dog', 'hippo', 'monkey']\n",
        "h = ['monkey', 'rhino', 'ostrich', 'salmon']"
      ],
      "metadata": {
        "id": "BuiR5FmvANFP"
      },
      "execution_count": 9,
      "outputs": []
    },
    {
      "cell_type": "code",
      "source": [
        "jaccard_set(g, h)\n",
        "\n",
        "\n"
      ],
      "metadata": {
        "colab": {
          "base_uri": "https://localhost:8080/"
        },
        "id": "uDxl7vUqAOxY",
        "outputId": "3b59221c-4b38-4fd0-be71-9b30806a9fd7"
      },
      "execution_count": 10,
      "outputs": [
        {
          "output_type": "execute_result",
          "data": {
            "text/plain": [
              "0.14285714285714285"
            ]
          },
          "metadata": {},
          "execution_count": 10
        }
      ]
    },
    {
      "cell_type": "code",
      "source": [],
      "metadata": {
        "id": "lPIFNKhiAWqI"
      },
      "execution_count": null,
      "outputs": []
    }
  ]
}